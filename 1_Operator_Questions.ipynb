{
 "cells": [
  {
   "cell_type": "markdown",
   "id": "a0817c15",
   "metadata": {},
   "source": [
    "\n",
    "\n",
    "**Exercise 1: Arithmetic Operations**\n",
    "Q: Take two numbers as input and calculate their sum, difference, product, quotient, and remainder using arithmetic operators.\n",
    "A:\n",
    "\n",
    "\n",
    "**Exercise 2: Comparison Operators**\n",
    "Q: Take two numbers as input and determine whether they are equal, not equal, greater than, and less than each other using comparison operators.\n",
    "A:\n",
    "\n",
    "\n",
    "**Exercise 3: Logical Operators**\n",
    "Q: Take two boolean values as input and print the result of their AND, OR, and NOT operations using logical operators.\n",
    "A:\n",
    "\n",
    "\n",
    "**Exercise 4: Bitwise Operations**\n",
    "Q: Take two integer numbers as input and perform bitwise AND, OR, XOR, and NOT operations on them.\n",
    "A:\n",
    "\n",
    "\n",
    "**Exercise 5: Precedence of Operators**\n",
    "Q: Take three numbers as input and create an expression using addition, subtraction, multiplication, and division. Print the result considering operator precedence.\n",
    "A:\n",
    "\n",
    "\n"
   ]
  },
  {
   "cell_type": "code",
   "execution_count": null,
   "id": "b60b9642",
   "metadata": {},
   "outputs": [],
   "source": [
    "arithmatic operator\n",
    "x=6\n",
    "y=4\n",
    "print(x+y)\n",
    "10\n",
    "print(x-y)\n",
    "2\n",
    "print(x*y)\n",
    "24\n",
    "print(x/y)\n",
    "1\n",
    "print(x%y)\n",
    "2\n"
   ]
  },
  {
   "cell_type": "code",
   "execution_count": null,
   "id": "ff058869",
   "metadata": {},
   "outputs": [],
   "source": [
    "camparison operator\n",
    "x=4\n",
    "y=3\n",
    "print(x==y)\n",
    "false (4 is not equal to 3)\n",
    "print(x!=y)\n",
    "true (4 is not equal to 3)\n",
    "print(x>y)\n",
    "true (4 is greater than 3)\n",
    "print(x<y)\n",
    "false (4 is  not less than 3)\n"
   ]
  },
  {
   "cell_type": "code",
   "execution_count": null,
   "id": "649da638",
   "metadata": {},
   "outputs": [],
   "source": [
    "logical operator\n",
    "x=6\n",
    "print (x>3 and x<10)\n",
    "true(\"6 is greater than 3 and 6 is less than 10\")\n",
    "print (x>3 or x<4)\n",
    "true(\"6 is greater than 3 and 6 is not less  than 4\")\n",
    "print (not(x>3 and x<10))\n",
    "false(\"note is used reverse the result\")"
   ]
  },
  {
   "cell_type": "code",
   "execution_count": null,
   "id": "0cc9591f",
   "metadata": {},
   "outputs": [],
   "source": [
    "bitwise operator\n",
    "a=10\n",
    "b=4\n",
    "print(\"a & b=\", a & b)and\n",
    "print(\"a | b=\", a | b)or\n",
    "print(\"~a\", ~a)not\n",
    "print(\"a ^ b=\", a ^ b)xor\n",
    "\n",
    "output\n",
    "a & b =0\n",
    "a | b=14\n",
    "~a=-11\n",
    "a ^ b=14"
   ]
  },
  {
   "cell_type": "markdown",
   "id": "2a395a25",
   "metadata": {},
   "source": [
    "\n",
    "\n",
    "**Exercise 6: Mixed Operators**\n",
    "Q: Take two numbers as input and calculate the result of the expression `(a + b) * (a - b) / (a ** b)` using arithmetic operators.\n",
    "\n",
    "\n",
    "**Exercise 7: Complex Comparison**\n",
    "Q: Take three numbers as input and determine if the first number is strictly between the second and third numbers (exclusive), using comparison operators.\n",
    "\n",
    "\n",
    "**Exercise 8: Convert Seconds**\n",
    "Q: Take the number of seconds as input and convert it into hours, minutes, and remaining seconds using arithmetic operators.\n",
    "\n",
    "\n",
    "**Exercise 9: Swap Variables**\n",
    "Q: Take two numbers as input and swap their values without using a temporary variable, using arithmetic operators.\n",
    "\n",
    "\n",
    "**Exercise 10: Investment Growth**\n",
    "Q: Take the principal amount, interest rate, and number of years as input. Calculate the final amount using the formula `A = P * (1 + r/n) ** (nt)`, where `n` is the number of times interest is compounded per year and `t` is the number of years.\n",
    "A:\n",
    "\n"
   ]
  },
  {
   "cell_type": "code",
   "execution_count": null,
   "id": "d55ae31f",
   "metadata": {},
   "outputs": [],
   "source": []
  },
  {
   "cell_type": "markdown",
   "id": "e6c449a8",
   "metadata": {},
   "source": [
    "\n",
    "\n",
    "**Exercise 11: Temperature Converter**\n",
    "Q: Take the temperature in Celsius as input and convert it to Kelvin and Fahrenheit using appropriate operators.\n",
    "A:\n",
    "\n",
    "\n",
    "**Exercise 12: Speed Calculator**\n",
    "Q: Take the distance (in kilometers) and time (in hours) as input. Calculate the speed in kilometers per hour using arithmetic operators.\n",
    "A:\n",
    "\n",
    "\n",
    "**Exercise 13: Triangle Area Calculator**\n",
    "Q: Take the base and height of a triangle as input. Calculate and print its area using arithmetic operators.\n",
    "A:\n",
    "\n",
    "\n",
    "**Exercise 14: Volume of a Sphere**\n",
    "Q: Take the radius of a sphere as input. Calculate and print its volume using arithmetic operators.\n",
    "A:\n",
    "\n",
    "**Exercise 15: Time Conversion**\n",
    "Q: Take a time duration in seconds as input. Convert and print it in the format of hours, minutes, and seconds using arithmetic operators.\n",
    "A:\n",
    "\n",
    "\n"
   ]
  },
  {
   "cell_type": "code",
   "execution_count": null,
   "id": "5cb313d7",
   "metadata": {},
   "outputs": [],
   "source": []
  }
 ],
 "metadata": {
  "kernelspec": {
   "display_name": "Python 3 (ipykernel)",
   "language": "python",
   "name": "python3"
  },
  "language_info": {
   "codemirror_mode": {
    "name": "ipython",
    "version": 3
   },
   "file_extension": ".py",
   "mimetype": "text/x-python",
   "name": "python",
   "nbconvert_exporter": "python",
   "pygments_lexer": "ipython3",
   "version": "3.9.13"
  }
 },
 "nbformat": 4,
 "nbformat_minor": 5
}
